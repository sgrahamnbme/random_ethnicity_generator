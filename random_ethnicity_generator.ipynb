{
  "metadata": {
    "language_info": {
      "codemirror_mode": {
        "name": "python",
        "version": 3
      },
      "file_extension": ".py",
      "mimetype": "text/x-python",
      "name": "python",
      "nbconvert_exporter": "python",
      "pygments_lexer": "ipython3",
      "version": "3.8"
    },
    "kernelspec": {
      "name": "python",
      "display_name": "Python (Pyodide)",
      "language": "python"
    }
  },
  "nbformat_minor": 4,
  "nbformat": 4,
  "cells": [
    {
      "cell_type": "markdown",
      "source": "# Random Ethnicity Generator\n## Instructions\n\n- Place your cursor inside the box below with code in it and click.\n- Hit shift + enter on your keyboard.\n- A randomly selected ethnicity will appear below the box.\n- Repeat this process to generate additional ethnicities.",
      "metadata": {}
    },
    {
      "cell_type": "code",
      "source": "import random\n\n# initializing list\neth_list = [\"Black\", \"white\", \"Native American\", \"Asian\", \"Asian American\", \"African American\", \"Latino\", \"Latina\", \"Latinx\", \"Hispanic\"]\n\n# using random.choice() to get a random item from the list\nrandom_eth = random.choice(eth_list)\n\n# printing randomly selected ethnicity\nprint(\"Randomly selected ethnicity: \" + str(random_eth))",
      "metadata": {
        "trusted": true
      },
      "execution_count": 1,
      "outputs": [
        {
          "name": "stdout",
          "text": "Randomly selected ethnicity: Asian\n",
          "output_type": "stream"
        }
      ]
    },
    {
      "cell_type": "code",
      "source": "",
      "metadata": {},
      "execution_count": null,
      "outputs": []
    }
  ]
}